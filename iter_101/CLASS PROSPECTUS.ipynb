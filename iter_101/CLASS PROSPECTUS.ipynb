{
 "cells": [
  {
   "cell_type": "code",
   "execution_count": 1,
   "metadata": {},
   "outputs": [],
   "source": [
    "import numpy as np\n",
    "import pandas as pd\n",
    "import datetime\n",
    "import pickle\n",
    "import os\n",
    "from sklearn.feature_extraction.text import TfidfVectorizer, CountVectorizer\n",
    "from sklearn.feature_extraction.text import TfidfTransformer\n",
    "from sklearn.ensemble import RandomForestClassifier\n",
    "\n",
    "from sklearn.feature_extraction.text import TfidfVectorizer, CountVectorizer\n",
    "from sklearn.feature_extraction.text import TfidfTransformer\n",
    "from sklearn.ensemble import RandomForestClassifier\n",
    "from sklearn.model_selection import train_test_split\n",
    "from sklearn.metrics import confusion_matrix\n",
    "from sklearn.calibration import CalibratedClassifierCV\n",
    "from nltk.corpus import stopwords\n",
    "import matplotlib.pyplot as plt"
   ]
  },
  {
   "cell_type": "code",
   "execution_count": 2,
   "metadata": {},
   "outputs": [],
   "source": [
    "## ADDITIONAL FUNCTIONS\n",
    "if not os.path.exists('models'):\n",
    "    os.makedirs('models')\n",
    "\n",
    "pStopWordsList = stopwords.words('english') + stopwords.words('russian')\n",
    "    \n",
    "def process_text_layer(TextLayer, pStopWordsList = []):\n",
    "    txt =  \" \".join([w for w in TextLayer.lower().split() \\\n",
    "                     if (not w in pStopWordsList)])\n",
    "\n",
    "    txt = txt. \\\n",
    "        replace('«', ''). \\\n",
    "        replace('»', ''). \\\n",
    "        replace('(', ''). \\\n",
    "        replace(')', ''). \\\n",
    "        replace('\\[)', ''). \\\n",
    "        replace('\\]', ''). \\\n",
    "        replace('^', ''). \\\n",
    "        replace('\\\\', '')\n",
    "\n",
    "    return txt\n",
    "\n",
    "def learnBinaryClassifier(ds):\n",
    "    '''Kлассификатор. \n",
    "   Input: ds (dataframe): x - текстовый слой; target - результат\n",
    "   Output: CountVectorizer, RandomForestClassifier\n",
    "   '''\n",
    "    ngram_range = (1, 3)\n",
    "    max_features = 50000\n",
    "    n_estimators=100\n",
    "\n",
    "    print(\"Create vectorizer\")\n",
    "    vectorizer = CountVectorizer(analyzer = \"word\",\n",
    "                                tokenizer = None,\n",
    "                                preprocessor = None,\n",
    "                                stop_words = None, \n",
    "                                ngram_range = ngram_range,\n",
    "                                max_features = max_features\n",
    "                                )\n",
    "\n",
    "    print(\"Fit and Transform vectorizer\")\n",
    "\n",
    "    X_train = ds['x']\n",
    "    Y_train = ds['target']\n",
    "\n",
    "    X_train = vectorizer.fit_transform(X_train)\n",
    "    X_train = X_train.toarray()\n",
    "\n",
    "    model = RandomForestClassifier(n_estimators=n_estimators)\n",
    "\n",
    "    print(\"Fit Model\")\n",
    "    model = model.fit(X_train, Y_train)\n",
    "\n",
    "    return vectorizer, model"
   ]
  },
  {
   "cell_type": "code",
   "execution_count": 3,
   "metadata": {},
   "outputs": [],
   "source": [
    "def learnBinaryClassifier_CountVectorizer(ds):\n",
    "    '''Kлассификатор. \n",
    "   Input: ds (dataframe): x - текстовый слой; target - результат\n",
    "   Output: CountVectorizer, RandomForestClassifier\n",
    "   '''\n",
    "    ngram_range = (1, 3)\n",
    "    max_features = 50000\n",
    "    n_estimators=100\n",
    "\n",
    "    print(\"Create vectorizer\")\n",
    "    vectorizer = CountVectorizer(analyzer = \"word\",\n",
    "                                tokenizer = None,\n",
    "                                preprocessor = None,\n",
    "                                stop_words = None, \n",
    "                                ngram_range = ngram_range,\n",
    "                                max_features = max_features\n",
    "                                )\n",
    "\n",
    "    print(\"Fit and Transform vectorizer\")\n",
    "\n",
    "    X_train = ds['x']\n",
    "    Y_train = ds['target']\n",
    "\n",
    "    X_train = vectorizer.fit_transform(X_train)\n",
    "    X_train = X_train.toarray()\n",
    "\n",
    "    model = RandomForestClassifier(n_estimators=n_estimators)\n",
    "\n",
    "    print(\"Fit Model\")\n",
    "    model = model.fit(X_train, Y_train)\n",
    "\n",
    "    return vectorizer, model\n",
    "def learnBinaryClassifier_TF_IDF(ds, weight = 300):\n",
    "    '''Kлассификатор. \n",
    "   Input: ds (dataframe): x - текстовый слой; target - результат\n",
    "   Output: CountVectorizer, RandomForestClassifier\n",
    "   '''\n",
    "    ngram_range = (1, 3)\n",
    "    max_features = 50000\n",
    "    n_estimators=100\n",
    "\n",
    "    print(\"Create vectorizer\")\n",
    "    vectorizer = TfidfVectorizer(analyzer = \"word\",\n",
    "                                tokenizer = None,\n",
    "                                preprocessor = None,\n",
    "                                stop_words = None, \n",
    "                                ngram_range = ngram_range,\n",
    "                                max_features = max_features\n",
    "                                )\n",
    "\n",
    "    print(\"Fit and Transform vectorizer\")\n",
    "\n",
    "    X_train = ds['x']\n",
    "    Y_train = ds['target']\n",
    "\n",
    "    X_train = vectorizer.fit_transform(X_train)\n",
    "    X_train = X_train.toarray()\n",
    "\n",
    "    model = RandomForestClassifier(n_estimators=n_estimators,class_weight={0:1,1:weight})\n",
    "    model = CalibratedClassifierCV(base_estimator=model, cv=3)\n",
    "    print(\"Fit Model\")\n",
    "    try:\n",
    "        model = model.fit(X_train, Y_train)\n",
    "    except:\n",
    "        print(\"No 1\")\n",
    "    return vectorizer, model\n"
   ]
  },
  {
   "cell_type": "code",
   "execution_count": 4,
   "metadata": {},
   "outputs": [],
   "source": [
    "text_data = pd.read_csv('CLASS PROSPECTUS.csv')\n",
    "text_data['string_value'] = text_data['string_value'].astype(str)\n",
    "class_data = pd.read_excel('CLASS PROSPECTUS.xlsx', sheet_name = 'DATA')\n",
    "\n",
    "models_rename = {\n",
    "    \"Ограничение по предоставлению залога\":\"Restriction_on_the_provision_of_collateral\",\n",
    "    \"Изменение контроля\":\"Change_of_control\",\n",
    "    \"Случаи дефолта\":\"Cases_of_default\",\n",
    "    \"Кросс-дефолт\":\"Cross-default\",\n",
    "    \"Оговорки о коллективных действиях\":\"Collective_action_clauses\",\n",
    "    \"Ограничение задолженности\":\"Limitation_on_indebtedness\",\n",
    "    \"Ограничение задолженности дочерних компаний\":\"Limitation_of_debt_of_subsidiaries\",\n",
    "    \"Ограничение по платежам\":\"Limitation_on_payments\",\n",
    "    \"Ограничение по инвестициям\":\"Investment_restriction\",\n",
    "    \"Ограничение по платежам в отношении дочерних компаний\":\"Limitation_on_payments_to_subsidiaries\",\n",
    "    \"Ограничение по транзакциям с аффилированными лицами\":\"Restriction_on_transactions_with_affiliates\",\n",
    "    \"Ограничение деятельности\":\"Restriction_of_activity\",\n",
    "    \"Ограничение по продаже активов\":\"Restriction_on_asset_sales\",\n",
    "    \"Ограничение по продаже активов с обратной арендой\":\"Restriction_on_the_sale_of_assets_with_leaseback\",\n",
    "    \"Ограничение по слиянию\":\"Limitation_on_merger\",\n",
    "    \"Триггер рейтингов\":\"Ratings_trigger\",\n",
    "    \"Обозначение прав дочерних компаний (restricted / unrestricted)\":\"Designation_of_the_rights_of_subsidiaries\",\n",
    "    \"Ограничение по наслоению долговых обязательств по рангам\":\"Restriction_on_the_layering_of_debt_obligations_by_rank\",\n",
    "    \"Условие приостановки действия ковенантов\":\"A_condition_of_suspension_of_the_covenants\",\n",
    "    \"Финансовые ковенанты\":\"Financial_covenants\"}\n",
    "class_data = class_data.rename(columns=models_rename)"
   ]
  },
  {
   "cell_type": "code",
   "execution_count": 6,
   "metadata": {},
   "outputs": [],
   "source": [
    "# Уменьшаем размерность задачи, так как слишком много нулевых данных\n",
    "tags = list(class_data['tag'])\n",
    "new_tags = list(text_data[~text_data['tag'].isin(tags)].sample(3000)['tag'])\n",
    "new_tags = new_tags + tags\n",
    "text_data = text_data[text_data['tag'].isin(new_tags)]"
   ]
  },
  {
   "cell_type": "code",
   "execution_count": 7,
   "metadata": {},
   "outputs": [],
   "source": [
    "data = text_data.merge(class_data, on='tag', how='left').copy()\n",
    "data['string_value'] = data.apply(lambda r: process_text_layer(r['string_value'], pStopWordsList), axis = 1)\n",
    "models = list(data.columns)[2:]"
   ]
  },
  {
   "cell_type": "code",
   "execution_count": 8,
   "metadata": {},
   "outputs": [],
   "source": [
    "# По ковенанте ratings_trigger и Обозначение прав нет ни одного документа, её содержащего, так что вырежем её из списка моделей\n",
    "if \"Ratings_trigger\" in models:\n",
    "    models.remove(\"Ratings_trigger\")\n",
    "if \"Обозначение прав дочерних компаний (restricted unrestricted)\" in models:\n",
    "    models.remove(\"Обозначение прав дочерних компаний (restricted unrestricted)\")\n"
   ]
  },
  {
   "cell_type": "code",
   "execution_count": 9,
   "metadata": {},
   "outputs": [
    {
     "name": "stderr",
     "output_type": "stream",
     "text": [
      "/home/delanary/.local/lib/python3.7/site-packages/pandas/core/computation/expressions.py:68: FutureWarning: elementwise comparison failed; returning scalar instead, but in the future will perform elementwise comparison\n",
      "  return op(a, b)\n",
      "/home/delanary/.local/lib/python3.7/site-packages/pandas/core/computation/expressions.py:68: FutureWarning: elementwise comparison failed; returning scalar instead, but in the future will perform elementwise comparison\n",
      "  return op(a, b)\n",
      "/home/delanary/.local/lib/python3.7/site-packages/pandas/core/computation/expressions.py:68: FutureWarning: elementwise comparison failed; returning scalar instead, but in the future will perform elementwise comparison\n",
      "  return op(a, b)\n",
      "/home/delanary/.local/lib/python3.7/site-packages/pandas/core/computation/expressions.py:68: FutureWarning: elementwise comparison failed; returning scalar instead, but in the future will perform elementwise comparison\n",
      "  return op(a, b)\n",
      "/home/delanary/.local/lib/python3.7/site-packages/pandas/core/computation/expressions.py:68: FutureWarning: elementwise comparison failed; returning scalar instead, but in the future will perform elementwise comparison\n",
      "  return op(a, b)\n",
      "/home/delanary/.local/lib/python3.7/site-packages/pandas/core/computation/expressions.py:68: FutureWarning: elementwise comparison failed; returning scalar instead, but in the future will perform elementwise comparison\n",
      "  return op(a, b)\n",
      "/home/delanary/.local/lib/python3.7/site-packages/pandas/core/computation/expressions.py:68: FutureWarning: elementwise comparison failed; returning scalar instead, but in the future will perform elementwise comparison\n",
      "  return op(a, b)\n",
      "/home/delanary/.local/lib/python3.7/site-packages/pandas/core/computation/expressions.py:68: FutureWarning: elementwise comparison failed; returning scalar instead, but in the future will perform elementwise comparison\n",
      "  return op(a, b)\n",
      "/home/delanary/.local/lib/python3.7/site-packages/pandas/core/computation/expressions.py:68: FutureWarning: elementwise comparison failed; returning scalar instead, but in the future will perform elementwise comparison\n",
      "  return op(a, b)\n",
      "/home/delanary/.local/lib/python3.7/site-packages/pandas/core/computation/expressions.py:68: FutureWarning: elementwise comparison failed; returning scalar instead, but in the future will perform elementwise comparison\n",
      "  return op(a, b)\n",
      "/home/delanary/.local/lib/python3.7/site-packages/pandas/core/computation/expressions.py:68: FutureWarning: elementwise comparison failed; returning scalar instead, but in the future will perform elementwise comparison\n",
      "  return op(a, b)\n",
      "/home/delanary/.local/lib/python3.7/site-packages/pandas/core/computation/expressions.py:68: FutureWarning: elementwise comparison failed; returning scalar instead, but in the future will perform elementwise comparison\n",
      "  return op(a, b)\n",
      "/home/delanary/.local/lib/python3.7/site-packages/pandas/core/computation/expressions.py:68: FutureWarning: elementwise comparison failed; returning scalar instead, but in the future will perform elementwise comparison\n",
      "  return op(a, b)\n",
      "/home/delanary/.local/lib/python3.7/site-packages/pandas/core/computation/expressions.py:68: FutureWarning: elementwise comparison failed; returning scalar instead, but in the future will perform elementwise comparison\n",
      "  return op(a, b)\n",
      "/home/delanary/.local/lib/python3.7/site-packages/pandas/core/computation/expressions.py:68: FutureWarning: elementwise comparison failed; returning scalar instead, but in the future will perform elementwise comparison\n",
      "  return op(a, b)\n",
      "/home/delanary/.local/lib/python3.7/site-packages/pandas/core/computation/expressions.py:68: FutureWarning: elementwise comparison failed; returning scalar instead, but in the future will perform elementwise comparison\n",
      "  return op(a, b)\n",
      "/home/delanary/.local/lib/python3.7/site-packages/pandas/core/computation/expressions.py:68: FutureWarning: elementwise comparison failed; returning scalar instead, but in the future will perform elementwise comparison\n",
      "  return op(a, b)\n",
      "/home/delanary/.local/lib/python3.7/site-packages/pandas/core/computation/expressions.py:68: FutureWarning: elementwise comparison failed; returning scalar instead, but in the future will perform elementwise comparison\n",
      "  return op(a, b)\n"
     ]
    }
   ],
   "source": [
    "datasets = {}\n",
    "#models = ['Change_of_control']\n",
    "for model_name in models:\n",
    "    ds = data[['tag','string_value', model_name]].rename(columns={'string_value': 'x', model_name: 'target'})\n",
    "    ds = ds.fillna(0)\n",
    "    ds = ds[ds['target']!=''].drop_duplicates()\n",
    "    datasets[model_name] = ds.copy()"
   ]
  },
  {
   "cell_type": "code",
   "execution_count": 10,
   "metadata": {},
   "outputs": [],
   "source": [
    "validation_set_part = 0.2\n",
    "for model_name in models:\n",
    "    df = datasets[model_name]\n",
    "    df_validation = df.sample(frac = validation_set_part) \n",
    "    df_training = df.drop(df_validation.index) \n",
    "    item = {\n",
    "        'df_validation': df_validation.copy(),\n",
    "        'df_training': df_training.copy()\n",
    "    }\n",
    "    datasets[model_name] = item"
   ]
  },
  {
   "cell_type": "code",
   "execution_count": 11,
   "metadata": {},
   "outputs": [
    {
     "name": "stdout",
     "output_type": "stream",
     "text": [
      "Restriction_on_the_provision_of_collateral\n",
      "Create vectorizer\n",
      "Fit and Transform vectorizer\n",
      "Fit Model\n",
      "Create vectorizer\n",
      "Fit and Transform vectorizer\n",
      "Fit Model\n",
      "Change_of_control\n",
      "Create vectorizer\n",
      "Fit and Transform vectorizer\n",
      "Fit Model\n",
      "Create vectorizer\n",
      "Fit and Transform vectorizer\n",
      "Fit Model\n",
      "Cases_of_default\n",
      "Create vectorizer\n",
      "Fit and Transform vectorizer\n",
      "Fit Model\n",
      "Create vectorizer\n",
      "Fit and Transform vectorizer\n",
      "Fit Model\n",
      "Cross-default\n",
      "Create vectorizer\n",
      "Fit and Transform vectorizer\n",
      "Fit Model\n",
      "Create vectorizer\n",
      "Fit and Transform vectorizer\n",
      "Fit Model\n",
      "Collective_action_clauses\n",
      "Create vectorizer\n",
      "Fit and Transform vectorizer\n",
      "Fit Model\n",
      "Create vectorizer\n",
      "Fit and Transform vectorizer\n",
      "Fit Model\n",
      "Limitation_on_indebtedness\n",
      "Create vectorizer\n",
      "Fit and Transform vectorizer\n",
      "Fit Model\n",
      "Create vectorizer\n",
      "Fit and Transform vectorizer\n",
      "Fit Model\n",
      "Limitation_of_debt_of_subsidiaries\n",
      "Create vectorizer\n",
      "Fit and Transform vectorizer\n",
      "Fit Model\n",
      "Create vectorizer\n",
      "Fit and Transform vectorizer\n",
      "Fit Model\n",
      "Limitation_on_payments\n",
      "Create vectorizer\n",
      "Fit and Transform vectorizer\n",
      "Fit Model\n",
      "Create vectorizer\n",
      "Fit and Transform vectorizer\n",
      "Fit Model\n",
      "Investment_restriction\n",
      "Create vectorizer\n",
      "Fit and Transform vectorizer\n",
      "Fit Model\n",
      "Create vectorizer\n",
      "Fit and Transform vectorizer\n",
      "Fit Model\n",
      "No 1\n",
      "Limitation_on_payments_to_subsidiaries\n",
      "Create vectorizer\n",
      "Fit and Transform vectorizer\n",
      "Fit Model\n",
      "Create vectorizer\n",
      "Fit and Transform vectorizer\n",
      "Fit Model\n",
      "Restriction_on_transactions_with_affiliates\n",
      "Create vectorizer\n",
      "Fit and Transform vectorizer\n",
      "Fit Model\n",
      "Create vectorizer\n",
      "Fit and Transform vectorizer\n",
      "Fit Model\n",
      "Restriction_of_activity\n",
      "Create vectorizer\n",
      "Fit and Transform vectorizer\n",
      "Fit Model\n",
      "Create vectorizer\n",
      "Fit and Transform vectorizer\n",
      "Fit Model\n",
      "Restriction_on_asset_sales\n",
      "Create vectorizer\n",
      "Fit and Transform vectorizer\n",
      "Fit Model\n",
      "Create vectorizer\n",
      "Fit and Transform vectorizer\n",
      "Fit Model\n",
      "Restriction_on_the_sale_of_assets_with_leaseback\n",
      "Create vectorizer\n",
      "Fit and Transform vectorizer\n",
      "Fit Model\n",
      "Create vectorizer\n",
      "Fit and Transform vectorizer\n",
      "Fit Model\n",
      "Limitation_on_merger\n",
      "Create vectorizer\n",
      "Fit and Transform vectorizer\n",
      "Fit Model\n",
      "Create vectorizer\n",
      "Fit and Transform vectorizer\n",
      "Fit Model\n",
      "Restriction_on_the_layering_of_debt_obligations_by_rank\n",
      "Create vectorizer\n",
      "Fit and Transform vectorizer\n",
      "Fit Model\n",
      "Create vectorizer\n",
      "Fit and Transform vectorizer\n",
      "Fit Model\n",
      "A_condition_of_suspension_of_the_covenants\n",
      "Create vectorizer\n",
      "Fit and Transform vectorizer\n",
      "Fit Model\n",
      "Create vectorizer\n",
      "Fit and Transform vectorizer\n",
      "Fit Model\n",
      "Financial_covenants\n",
      "Create vectorizer\n",
      "Fit and Transform vectorizer\n",
      "Fit Model\n",
      "Create vectorizer\n",
      "Fit and Transform vectorizer\n",
      "Fit Model\n",
      "0:03:49.418397\n"
     ]
    }
   ],
   "source": [
    "from datetime import datetime\n",
    "cur = datetime.now()\n",
    "for model_name in models:\n",
    "    print(model_name)\n",
    "    try:\n",
    "        vector, model = learnBinaryClassifier_CountVectorizer(datasets[model_name]['df_training'])\n",
    "        with open(('./models\\\\CLASS_PROSPECTUS_%s_CountVectorizer.rft' % model_name), 'wb') as f:\n",
    "            pickle.dump(model, f)\n",
    "        with open(('./models\\\\VECTOR_PROSPECTUS_%s_CountVectorizer.txt' % model_name), 'wb') as f:\n",
    "            pickle.dump(vector, f)\n",
    "        vector, model = learnBinaryClassifier_TF_IDF(datasets[model_name]['df_training'])\n",
    "        with open(('./models\\\\CLASS_PROSPECTUS_%s_TF-IDF.rft' % model_name), 'wb') as f:\n",
    "            pickle.dump(model, f)\n",
    "        with open(('./models\\\\VECTOR_PROSPECTUS_%s_TF-IDF.txt' % model_name), 'wb') as f:\n",
    "            pickle.dump(vector, f)\n",
    "    except:\n",
    "        print('failed on model ', model_name)\n",
    "print((datetime.now() - cur))"
   ]
  },
  {
   "cell_type": "code",
   "execution_count": 13,
   "metadata": {},
   "outputs": [
    {
     "name": "stdout",
     "output_type": "stream",
     "text": [
      "fail on  Investment_restriction\n"
     ]
    }
   ],
   "source": [
    "for model_name in models:\n",
    "    with open(('./models\\\\CLASS_PROSPECTUS_%s_TF-IDF.rft' % model_name), 'rb') as f:\n",
    "        model = pickle.load(f)\n",
    "    with open(('./models\\\\VECTOR_PROSPECTUS_%s_TF-IDF.txt' % model_name), 'rb') as f:\n",
    "        vector = pickle.load(f)  \n",
    "        \n",
    "    ds = datasets[model_name]['df_validation']\n",
    "    try:\n",
    "        ds['predict_proba']= model.predict_proba(vector.transform(ds['x']))[:, 0]\n",
    "    except:\n",
    "        print(\"fail on \", model_name)\n",
    "    #ds['target'] = ds.apply(lambda r: 'empty' if r['target']==None else r['target'], axis=1)\n",
    "    \n",
    "    #precision = round(100- 100*len(ds[(ds['confidence']>=confidence_level)&(ds['target']!=ds['predict'])])/len(ds),2)\n",
    "\n",
    "    #print('Model %s statistic (validation rows %s): Precision= %s ; To_Validate=%s  at Confidence=%s' % (model_name, len(ds), precision, to_validate, confidence_level))"
   ]
  },
  {
   "cell_type": "markdown",
   "metadata": {},
   "source": [
    "ВЫШЕ ЭТОЙ СТРОЧКИ НЕ ТРОГАЙТЕ"
   ]
  },
  {
   "cell_type": "code",
   "execution_count": 14,
   "metadata": {},
   "outputs": [],
   "source": [
    "def precision_count(ds, confidence_level):\n",
    "    return round(100- 100*len(ds[(ds['confidence']>=confidence_level)&(ds['target']!=ds['predict'])])/len(ds),2)"
   ]
  },
  {
   "cell_type": "code",
   "execution_count": 15,
   "metadata": {},
   "outputs": [],
   "source": [
    "def to_validate_count(ds, confidence_level):\n",
    "    return round(100*len(ds[(ds['confidence']<confidence_level)])/len(ds),2)"
   ]
  },
  {
   "cell_type": "code",
   "execution_count": 16,
   "metadata": {},
   "outputs": [],
   "source": [
    "#false negative\n",
    "def first_type_errors_count(ds, confidence_level):\n",
    "    errors_count = len(ds[(ds['confidence']>=confidence_level)&(ds['target'] > ds['predict'])])\n",
    "    return round(100*errors_count/len(ds[ds['target'] == 1]),2)"
   ]
  },
  {
   "cell_type": "code",
   "execution_count": 17,
   "metadata": {},
   "outputs": [],
   "source": [
    "#false positive\n",
    "def second_type_errors_count(ds, confidence_level):\n",
    "    errors_count = len(ds[(ds['confidence']>=confidence_level)&(ds['target'] < ds['predict'])])\n",
    "    return round(100*errors_count/len(ds[ds['target'] == 0]),2)"
   ]
  },
  {
   "cell_type": "code",
   "execution_count": 18,
   "metadata": {},
   "outputs": [],
   "source": [
    "def get_plot_confidence_and_validate_points(ds):\n",
    "    to_validates = []\n",
    "    confidences = [i / 100 for i in range(1,102,1)]\n",
    "    \n",
    "    for confidence_level in range(1, 102, 1):\n",
    "        \n",
    "        confidence_level /= 100\n",
    "        \n",
    "        to_validate = to_validate_count(ds, confidence_level)\n",
    "        \n",
    "        to_validates.append(to_validate)\n",
    "        \n",
    "        \n",
    "    return np.array(to_validates), np.array(confidences)"
   ]
  },
  {
   "cell_type": "code",
   "execution_count": null,
   "metadata": {},
   "outputs": [],
   "source": [
    "def get_plot_confidence_and_errors_points(ds):\n",
    "    first_type_errors = []\n",
    "    second_type_errors = []\n",
    "    confidences = [i / 100 for i in range(1,102,1)]\n",
    "    \n",
    "    for confidence_level in range(1, 102, 1):\n",
    "        \n",
    "        confidence_level /= 100\n",
    "        \n",
    "        first_type_errors.append(first_type_errors_count(ds, confidence_level))\n",
    "        \n",
    "        second_type_errors.append(second_type_errors_count(ds, confidence_level))\n",
    "        \n",
    "    return np.array(first_type_errors), np.array(second_type_errors), np.array(confidences)"
   ]
  },
  {
   "cell_type": "code",
   "execution_count": 33,
   "metadata": {},
   "outputs": [],
   "source": []
  },
  {
   "cell_type": "code",
   "execution_count": 46,
   "metadata": {},
   "outputs": [],
   "source": [
    "stats_df = pd.DataFrame(\n",
    "    index=models,\n",
    "                columns=[ \n",
    "                                 \"true_neg_vectorizer\",\n",
    "                                 \"true_pos_vectorizer\", \n",
    "                                 \"false_neg_vectorizer\",\n",
    "                                 \"false_pos_vectorizer\",\n",
    "                                 \"log_loss_vectorizer\",\n",
    "                                 \"true_neg_tf_idf\",\n",
    "                                 \"true_pos_tf_idf\", \n",
    "                                 \"false_neg_tf_idf\",\n",
    "                                 \"false_pos_tf_idf\",\n",
    "                                 \"log_loss_tf_idf\"])\n"
   ]
  },
  {
   "cell_type": "code",
   "execution_count": 47,
   "metadata": {},
   "outputs": [
    {
     "data": {
      "text/html": [
       "<div>\n",
       "<style scoped>\n",
       "    .dataframe tbody tr th:only-of-type {\n",
       "        vertical-align: middle;\n",
       "    }\n",
       "\n",
       "    .dataframe tbody tr th {\n",
       "        vertical-align: top;\n",
       "    }\n",
       "\n",
       "    .dataframe thead th {\n",
       "        text-align: right;\n",
       "    }\n",
       "</style>\n",
       "<table border=\"1\" class=\"dataframe\">\n",
       "  <thead>\n",
       "    <tr style=\"text-align: right;\">\n",
       "      <th></th>\n",
       "      <th>true_neg_vectorizer</th>\n",
       "      <th>true_pos_vectorizer</th>\n",
       "      <th>false_neg_vectorizer</th>\n",
       "      <th>false_pos_vectorizer</th>\n",
       "      <th>log_loss_vectorizer</th>\n",
       "      <th>true_neg_tf_idf</th>\n",
       "      <th>true_pos_tf_idf</th>\n",
       "      <th>false_neg_tf_idf</th>\n",
       "      <th>false_pos_tf_idf</th>\n",
       "      <th>log_loss_tf_idf</th>\n",
       "    </tr>\n",
       "  </thead>\n",
       "  <tbody>\n",
       "    <tr>\n",
       "      <th>Restriction_on_the_provision_of_collateral</th>\n",
       "      <td>NaN</td>\n",
       "      <td>NaN</td>\n",
       "      <td>NaN</td>\n",
       "      <td>NaN</td>\n",
       "      <td>NaN</td>\n",
       "      <td>NaN</td>\n",
       "      <td>NaN</td>\n",
       "      <td>NaN</td>\n",
       "      <td>NaN</td>\n",
       "      <td>NaN</td>\n",
       "    </tr>\n",
       "    <tr>\n",
       "      <th>Change_of_control</th>\n",
       "      <td>NaN</td>\n",
       "      <td>NaN</td>\n",
       "      <td>NaN</td>\n",
       "      <td>NaN</td>\n",
       "      <td>NaN</td>\n",
       "      <td>NaN</td>\n",
       "      <td>NaN</td>\n",
       "      <td>NaN</td>\n",
       "      <td>NaN</td>\n",
       "      <td>NaN</td>\n",
       "    </tr>\n",
       "    <tr>\n",
       "      <th>Cases_of_default</th>\n",
       "      <td>NaN</td>\n",
       "      <td>NaN</td>\n",
       "      <td>NaN</td>\n",
       "      <td>NaN</td>\n",
       "      <td>NaN</td>\n",
       "      <td>NaN</td>\n",
       "      <td>NaN</td>\n",
       "      <td>NaN</td>\n",
       "      <td>NaN</td>\n",
       "      <td>NaN</td>\n",
       "    </tr>\n",
       "    <tr>\n",
       "      <th>Cross-default</th>\n",
       "      <td>NaN</td>\n",
       "      <td>NaN</td>\n",
       "      <td>NaN</td>\n",
       "      <td>NaN</td>\n",
       "      <td>NaN</td>\n",
       "      <td>NaN</td>\n",
       "      <td>NaN</td>\n",
       "      <td>NaN</td>\n",
       "      <td>NaN</td>\n",
       "      <td>NaN</td>\n",
       "    </tr>\n",
       "    <tr>\n",
       "      <th>Collective_action_clauses</th>\n",
       "      <td>NaN</td>\n",
       "      <td>NaN</td>\n",
       "      <td>NaN</td>\n",
       "      <td>NaN</td>\n",
       "      <td>NaN</td>\n",
       "      <td>NaN</td>\n",
       "      <td>NaN</td>\n",
       "      <td>NaN</td>\n",
       "      <td>NaN</td>\n",
       "      <td>NaN</td>\n",
       "    </tr>\n",
       "    <tr>\n",
       "      <th>Limitation_on_indebtedness</th>\n",
       "      <td>NaN</td>\n",
       "      <td>NaN</td>\n",
       "      <td>NaN</td>\n",
       "      <td>NaN</td>\n",
       "      <td>NaN</td>\n",
       "      <td>NaN</td>\n",
       "      <td>NaN</td>\n",
       "      <td>NaN</td>\n",
       "      <td>NaN</td>\n",
       "      <td>NaN</td>\n",
       "    </tr>\n",
       "    <tr>\n",
       "      <th>Limitation_of_debt_of_subsidiaries</th>\n",
       "      <td>NaN</td>\n",
       "      <td>NaN</td>\n",
       "      <td>NaN</td>\n",
       "      <td>NaN</td>\n",
       "      <td>NaN</td>\n",
       "      <td>NaN</td>\n",
       "      <td>NaN</td>\n",
       "      <td>NaN</td>\n",
       "      <td>NaN</td>\n",
       "      <td>NaN</td>\n",
       "    </tr>\n",
       "    <tr>\n",
       "      <th>Limitation_on_payments</th>\n",
       "      <td>NaN</td>\n",
       "      <td>NaN</td>\n",
       "      <td>NaN</td>\n",
       "      <td>NaN</td>\n",
       "      <td>NaN</td>\n",
       "      <td>NaN</td>\n",
       "      <td>NaN</td>\n",
       "      <td>NaN</td>\n",
       "      <td>NaN</td>\n",
       "      <td>NaN</td>\n",
       "    </tr>\n",
       "    <tr>\n",
       "      <th>Investment_restriction</th>\n",
       "      <td>NaN</td>\n",
       "      <td>NaN</td>\n",
       "      <td>NaN</td>\n",
       "      <td>NaN</td>\n",
       "      <td>NaN</td>\n",
       "      <td>NaN</td>\n",
       "      <td>NaN</td>\n",
       "      <td>NaN</td>\n",
       "      <td>NaN</td>\n",
       "      <td>NaN</td>\n",
       "    </tr>\n",
       "    <tr>\n",
       "      <th>Limitation_on_payments_to_subsidiaries</th>\n",
       "      <td>NaN</td>\n",
       "      <td>NaN</td>\n",
       "      <td>NaN</td>\n",
       "      <td>NaN</td>\n",
       "      <td>NaN</td>\n",
       "      <td>NaN</td>\n",
       "      <td>NaN</td>\n",
       "      <td>NaN</td>\n",
       "      <td>NaN</td>\n",
       "      <td>NaN</td>\n",
       "    </tr>\n",
       "    <tr>\n",
       "      <th>Restriction_on_transactions_with_affiliates</th>\n",
       "      <td>NaN</td>\n",
       "      <td>NaN</td>\n",
       "      <td>NaN</td>\n",
       "      <td>NaN</td>\n",
       "      <td>NaN</td>\n",
       "      <td>NaN</td>\n",
       "      <td>NaN</td>\n",
       "      <td>NaN</td>\n",
       "      <td>NaN</td>\n",
       "      <td>NaN</td>\n",
       "    </tr>\n",
       "    <tr>\n",
       "      <th>Restriction_of_activity</th>\n",
       "      <td>NaN</td>\n",
       "      <td>NaN</td>\n",
       "      <td>NaN</td>\n",
       "      <td>NaN</td>\n",
       "      <td>NaN</td>\n",
       "      <td>NaN</td>\n",
       "      <td>NaN</td>\n",
       "      <td>NaN</td>\n",
       "      <td>NaN</td>\n",
       "      <td>NaN</td>\n",
       "    </tr>\n",
       "    <tr>\n",
       "      <th>Restriction_on_asset_sales</th>\n",
       "      <td>NaN</td>\n",
       "      <td>NaN</td>\n",
       "      <td>NaN</td>\n",
       "      <td>NaN</td>\n",
       "      <td>NaN</td>\n",
       "      <td>NaN</td>\n",
       "      <td>NaN</td>\n",
       "      <td>NaN</td>\n",
       "      <td>NaN</td>\n",
       "      <td>NaN</td>\n",
       "    </tr>\n",
       "    <tr>\n",
       "      <th>Restriction_on_the_sale_of_assets_with_leaseback</th>\n",
       "      <td>NaN</td>\n",
       "      <td>NaN</td>\n",
       "      <td>NaN</td>\n",
       "      <td>NaN</td>\n",
       "      <td>NaN</td>\n",
       "      <td>NaN</td>\n",
       "      <td>NaN</td>\n",
       "      <td>NaN</td>\n",
       "      <td>NaN</td>\n",
       "      <td>NaN</td>\n",
       "    </tr>\n",
       "    <tr>\n",
       "      <th>Limitation_on_merger</th>\n",
       "      <td>NaN</td>\n",
       "      <td>NaN</td>\n",
       "      <td>NaN</td>\n",
       "      <td>NaN</td>\n",
       "      <td>NaN</td>\n",
       "      <td>NaN</td>\n",
       "      <td>NaN</td>\n",
       "      <td>NaN</td>\n",
       "      <td>NaN</td>\n",
       "      <td>NaN</td>\n",
       "    </tr>\n",
       "    <tr>\n",
       "      <th>Restriction_on_the_layering_of_debt_obligations_by_rank</th>\n",
       "      <td>NaN</td>\n",
       "      <td>NaN</td>\n",
       "      <td>NaN</td>\n",
       "      <td>NaN</td>\n",
       "      <td>NaN</td>\n",
       "      <td>NaN</td>\n",
       "      <td>NaN</td>\n",
       "      <td>NaN</td>\n",
       "      <td>NaN</td>\n",
       "      <td>NaN</td>\n",
       "    </tr>\n",
       "    <tr>\n",
       "      <th>A_condition_of_suspension_of_the_covenants</th>\n",
       "      <td>NaN</td>\n",
       "      <td>NaN</td>\n",
       "      <td>NaN</td>\n",
       "      <td>NaN</td>\n",
       "      <td>NaN</td>\n",
       "      <td>NaN</td>\n",
       "      <td>NaN</td>\n",
       "      <td>NaN</td>\n",
       "      <td>NaN</td>\n",
       "      <td>NaN</td>\n",
       "    </tr>\n",
       "    <tr>\n",
       "      <th>Financial_covenants</th>\n",
       "      <td>NaN</td>\n",
       "      <td>NaN</td>\n",
       "      <td>NaN</td>\n",
       "      <td>NaN</td>\n",
       "      <td>NaN</td>\n",
       "      <td>NaN</td>\n",
       "      <td>NaN</td>\n",
       "      <td>NaN</td>\n",
       "      <td>NaN</td>\n",
       "      <td>NaN</td>\n",
       "    </tr>\n",
       "  </tbody>\n",
       "</table>\n",
       "</div>"
      ],
      "text/plain": [
       "                                                   true_neg_vectorizer  \\\n",
       "Restriction_on_the_provision_of_collateral                         NaN   \n",
       "Change_of_control                                                  NaN   \n",
       "Cases_of_default                                                   NaN   \n",
       "Cross-default                                                      NaN   \n",
       "Collective_action_clauses                                          NaN   \n",
       "Limitation_on_indebtedness                                         NaN   \n",
       "Limitation_of_debt_of_subsidiaries                                 NaN   \n",
       "Limitation_on_payments                                             NaN   \n",
       "Investment_restriction                                             NaN   \n",
       "Limitation_on_payments_to_subsidiaries                             NaN   \n",
       "Restriction_on_transactions_with_affiliates                        NaN   \n",
       "Restriction_of_activity                                            NaN   \n",
       "Restriction_on_asset_sales                                         NaN   \n",
       "Restriction_on_the_sale_of_assets_with_leaseback                   NaN   \n",
       "Limitation_on_merger                                               NaN   \n",
       "Restriction_on_the_layering_of_debt_obligations...                 NaN   \n",
       "A_condition_of_suspension_of_the_covenants                         NaN   \n",
       "Financial_covenants                                                NaN   \n",
       "\n",
       "                                                   true_pos_vectorizer  \\\n",
       "Restriction_on_the_provision_of_collateral                         NaN   \n",
       "Change_of_control                                                  NaN   \n",
       "Cases_of_default                                                   NaN   \n",
       "Cross-default                                                      NaN   \n",
       "Collective_action_clauses                                          NaN   \n",
       "Limitation_on_indebtedness                                         NaN   \n",
       "Limitation_of_debt_of_subsidiaries                                 NaN   \n",
       "Limitation_on_payments                                             NaN   \n",
       "Investment_restriction                                             NaN   \n",
       "Limitation_on_payments_to_subsidiaries                             NaN   \n",
       "Restriction_on_transactions_with_affiliates                        NaN   \n",
       "Restriction_of_activity                                            NaN   \n",
       "Restriction_on_asset_sales                                         NaN   \n",
       "Restriction_on_the_sale_of_assets_with_leaseback                   NaN   \n",
       "Limitation_on_merger                                               NaN   \n",
       "Restriction_on_the_layering_of_debt_obligations...                 NaN   \n",
       "A_condition_of_suspension_of_the_covenants                         NaN   \n",
       "Financial_covenants                                                NaN   \n",
       "\n",
       "                                                   false_neg_vectorizer  \\\n",
       "Restriction_on_the_provision_of_collateral                          NaN   \n",
       "Change_of_control                                                   NaN   \n",
       "Cases_of_default                                                    NaN   \n",
       "Cross-default                                                       NaN   \n",
       "Collective_action_clauses                                           NaN   \n",
       "Limitation_on_indebtedness                                          NaN   \n",
       "Limitation_of_debt_of_subsidiaries                                  NaN   \n",
       "Limitation_on_payments                                              NaN   \n",
       "Investment_restriction                                              NaN   \n",
       "Limitation_on_payments_to_subsidiaries                              NaN   \n",
       "Restriction_on_transactions_with_affiliates                         NaN   \n",
       "Restriction_of_activity                                             NaN   \n",
       "Restriction_on_asset_sales                                          NaN   \n",
       "Restriction_on_the_sale_of_assets_with_leaseback                    NaN   \n",
       "Limitation_on_merger                                                NaN   \n",
       "Restriction_on_the_layering_of_debt_obligations...                  NaN   \n",
       "A_condition_of_suspension_of_the_covenants                          NaN   \n",
       "Financial_covenants                                                 NaN   \n",
       "\n",
       "                                                   false_pos_vectorizer  \\\n",
       "Restriction_on_the_provision_of_collateral                          NaN   \n",
       "Change_of_control                                                   NaN   \n",
       "Cases_of_default                                                    NaN   \n",
       "Cross-default                                                       NaN   \n",
       "Collective_action_clauses                                           NaN   \n",
       "Limitation_on_indebtedness                                          NaN   \n",
       "Limitation_of_debt_of_subsidiaries                                  NaN   \n",
       "Limitation_on_payments                                              NaN   \n",
       "Investment_restriction                                              NaN   \n",
       "Limitation_on_payments_to_subsidiaries                              NaN   \n",
       "Restriction_on_transactions_with_affiliates                         NaN   \n",
       "Restriction_of_activity                                             NaN   \n",
       "Restriction_on_asset_sales                                          NaN   \n",
       "Restriction_on_the_sale_of_assets_with_leaseback                    NaN   \n",
       "Limitation_on_merger                                                NaN   \n",
       "Restriction_on_the_layering_of_debt_obligations...                  NaN   \n",
       "A_condition_of_suspension_of_the_covenants                          NaN   \n",
       "Financial_covenants                                                 NaN   \n",
       "\n",
       "                                                   log_loss_vectorizer  \\\n",
       "Restriction_on_the_provision_of_collateral                         NaN   \n",
       "Change_of_control                                                  NaN   \n",
       "Cases_of_default                                                   NaN   \n",
       "Cross-default                                                      NaN   \n",
       "Collective_action_clauses                                          NaN   \n",
       "Limitation_on_indebtedness                                         NaN   \n",
       "Limitation_of_debt_of_subsidiaries                                 NaN   \n",
       "Limitation_on_payments                                             NaN   \n",
       "Investment_restriction                                             NaN   \n",
       "Limitation_on_payments_to_subsidiaries                             NaN   \n",
       "Restriction_on_transactions_with_affiliates                        NaN   \n",
       "Restriction_of_activity                                            NaN   \n",
       "Restriction_on_asset_sales                                         NaN   \n",
       "Restriction_on_the_sale_of_assets_with_leaseback                   NaN   \n",
       "Limitation_on_merger                                               NaN   \n",
       "Restriction_on_the_layering_of_debt_obligations...                 NaN   \n",
       "A_condition_of_suspension_of_the_covenants                         NaN   \n",
       "Financial_covenants                                                NaN   \n",
       "\n",
       "                                                   true_neg_tf_idf  \\\n",
       "Restriction_on_the_provision_of_collateral                     NaN   \n",
       "Change_of_control                                              NaN   \n",
       "Cases_of_default                                               NaN   \n",
       "Cross-default                                                  NaN   \n",
       "Collective_action_clauses                                      NaN   \n",
       "Limitation_on_indebtedness                                     NaN   \n",
       "Limitation_of_debt_of_subsidiaries                             NaN   \n",
       "Limitation_on_payments                                         NaN   \n",
       "Investment_restriction                                         NaN   \n",
       "Limitation_on_payments_to_subsidiaries                         NaN   \n",
       "Restriction_on_transactions_with_affiliates                    NaN   \n",
       "Restriction_of_activity                                        NaN   \n",
       "Restriction_on_asset_sales                                     NaN   \n",
       "Restriction_on_the_sale_of_assets_with_leaseback               NaN   \n",
       "Limitation_on_merger                                           NaN   \n",
       "Restriction_on_the_layering_of_debt_obligations...             NaN   \n",
       "A_condition_of_suspension_of_the_covenants                     NaN   \n",
       "Financial_covenants                                            NaN   \n",
       "\n",
       "                                                   true_pos_tf_idf  \\\n",
       "Restriction_on_the_provision_of_collateral                     NaN   \n",
       "Change_of_control                                              NaN   \n",
       "Cases_of_default                                               NaN   \n",
       "Cross-default                                                  NaN   \n",
       "Collective_action_clauses                                      NaN   \n",
       "Limitation_on_indebtedness                                     NaN   \n",
       "Limitation_of_debt_of_subsidiaries                             NaN   \n",
       "Limitation_on_payments                                         NaN   \n",
       "Investment_restriction                                         NaN   \n",
       "Limitation_on_payments_to_subsidiaries                         NaN   \n",
       "Restriction_on_transactions_with_affiliates                    NaN   \n",
       "Restriction_of_activity                                        NaN   \n",
       "Restriction_on_asset_sales                                     NaN   \n",
       "Restriction_on_the_sale_of_assets_with_leaseback               NaN   \n",
       "Limitation_on_merger                                           NaN   \n",
       "Restriction_on_the_layering_of_debt_obligations...             NaN   \n",
       "A_condition_of_suspension_of_the_covenants                     NaN   \n",
       "Financial_covenants                                            NaN   \n",
       "\n",
       "                                                   false_neg_tf_idf  \\\n",
       "Restriction_on_the_provision_of_collateral                      NaN   \n",
       "Change_of_control                                               NaN   \n",
       "Cases_of_default                                                NaN   \n",
       "Cross-default                                                   NaN   \n",
       "Collective_action_clauses                                       NaN   \n",
       "Limitation_on_indebtedness                                      NaN   \n",
       "Limitation_of_debt_of_subsidiaries                              NaN   \n",
       "Limitation_on_payments                                          NaN   \n",
       "Investment_restriction                                          NaN   \n",
       "Limitation_on_payments_to_subsidiaries                          NaN   \n",
       "Restriction_on_transactions_with_affiliates                     NaN   \n",
       "Restriction_of_activity                                         NaN   \n",
       "Restriction_on_asset_sales                                      NaN   \n",
       "Restriction_on_the_sale_of_assets_with_leaseback                NaN   \n",
       "Limitation_on_merger                                            NaN   \n",
       "Restriction_on_the_layering_of_debt_obligations...              NaN   \n",
       "A_condition_of_suspension_of_the_covenants                      NaN   \n",
       "Financial_covenants                                             NaN   \n",
       "\n",
       "                                                   false_pos_tf_idf  \\\n",
       "Restriction_on_the_provision_of_collateral                      NaN   \n",
       "Change_of_control                                               NaN   \n",
       "Cases_of_default                                                NaN   \n",
       "Cross-default                                                   NaN   \n",
       "Collective_action_clauses                                       NaN   \n",
       "Limitation_on_indebtedness                                      NaN   \n",
       "Limitation_of_debt_of_subsidiaries                              NaN   \n",
       "Limitation_on_payments                                          NaN   \n",
       "Investment_restriction                                          NaN   \n",
       "Limitation_on_payments_to_subsidiaries                          NaN   \n",
       "Restriction_on_transactions_with_affiliates                     NaN   \n",
       "Restriction_of_activity                                         NaN   \n",
       "Restriction_on_asset_sales                                      NaN   \n",
       "Restriction_on_the_sale_of_assets_with_leaseback                NaN   \n",
       "Limitation_on_merger                                            NaN   \n",
       "Restriction_on_the_layering_of_debt_obligations...              NaN   \n",
       "A_condition_of_suspension_of_the_covenants                      NaN   \n",
       "Financial_covenants                                             NaN   \n",
       "\n",
       "                                                   log_loss_tf_idf  \n",
       "Restriction_on_the_provision_of_collateral                     NaN  \n",
       "Change_of_control                                              NaN  \n",
       "Cases_of_default                                               NaN  \n",
       "Cross-default                                                  NaN  \n",
       "Collective_action_clauses                                      NaN  \n",
       "Limitation_on_indebtedness                                     NaN  \n",
       "Limitation_of_debt_of_subsidiaries                             NaN  \n",
       "Limitation_on_payments                                         NaN  \n",
       "Investment_restriction                                         NaN  \n",
       "Limitation_on_payments_to_subsidiaries                         NaN  \n",
       "Restriction_on_transactions_with_affiliates                    NaN  \n",
       "Restriction_of_activity                                        NaN  \n",
       "Restriction_on_asset_sales                                     NaN  \n",
       "Restriction_on_the_sale_of_assets_with_leaseback               NaN  \n",
       "Limitation_on_merger                                           NaN  \n",
       "Restriction_on_the_layering_of_debt_obligations...             NaN  \n",
       "A_condition_of_suspension_of_the_covenants                     NaN  \n",
       "Financial_covenants                                            NaN  "
      ]
     },
     "execution_count": 47,
     "metadata": {},
     "output_type": "execute_result"
    }
   ],
   "source": [
    "stats_df"
   ]
  },
  {
   "cell_type": "code",
   "execution_count": 48,
   "metadata": {
    "scrolled": true
   },
   "outputs": [
    {
     "name": "stdout",
     "output_type": "stream",
     "text": [
      "log_loss = 0.028752433811720244, stupid_log_loss = 0.06997133373511628\n",
      "Covenant ratio = 1.63, Model name = Restriction_on_the_provision_of_collateral, true_positive = 45.45, true_negative = 99.41\n",
      "log_loss = 0.01418783719525262, stupid_log_loss = 0.050218396761899785\n",
      "Covenant ratio = 0.59, Model name = Change_of_control, true_positive = 100.0, true_negative = 99.71\n",
      "log_loss = 0.05577211056711133, stupid_log_loss = 0.1370183733796794\n",
      "Covenant ratio = 2.54, Model name = Cases_of_default, true_positive = 52.94, true_negative = 98.2\n",
      "log_loss = 0.021383935131144557, stupid_log_loss = 0.0997387017328646\n",
      "Covenant ratio = 1.78, Model name = Cross-default, true_positive = 100.0, true_negative = 99.7\n",
      "log_loss = 0.008954496177806366, stupid_log_loss = 0.11083350135474888\n",
      "Covenant ratio = 2.39, Model name = Collective_action_clauses, true_positive = 93.75, true_negative = 99.85\n",
      "log_loss = 0.012028240582706575, stupid_log_loss = 0.035855177047192405\n",
      "Covenant ratio = 0.29, Model name = Limitation_on_indebtedness, true_positive = 100.0, true_negative = 99.71\n",
      "log_loss = 0.018219119218419514, stupid_log_loss = 0.03585517704719241\n",
      "Covenant ratio = 0.15, Model name = Limitation_of_debt_of_subsidiaries, true_positive = 100.0, true_negative = 99.56\n",
      "log_loss = 0.01087869474273002, stupid_log_loss = 0.02815451196259687\n",
      "Covenant ratio = 0.29, Model name = Limitation_on_payments, true_positive = 100.0, true_negative = 99.85\n",
      "fatal err  Investment_restriction 'CalibratedClassifierCV' object has no attribute 'calibrated_classifiers_'\n",
      "log_loss = 0.0021622685671357157, stupid_log_loss = 0.010990786212846474\n",
      "Covenant ratio = 0.15, Model name = Limitation_on_payments_to_subsidiaries, true_positive = 100.0, true_negative = 100.0\n",
      "log_loss = 0.010688024769281898, stupid_log_loss = 0.02815451196259687\n",
      "Covenant ratio = 0.0, Model name = Restriction_on_transactions_with_affiliates, true_positive = nan, true_negative = 99.56\n"
     ]
    },
    {
     "name": "stderr",
     "output_type": "stream",
     "text": [
      "/home/delanary/.local/lib/python3.7/site-packages/ipykernel_launcher.py:36: RuntimeWarning: invalid value encountered in long_scalars\n"
     ]
    },
    {
     "name": "stdout",
     "output_type": "stream",
     "text": [
      "log_loss = 0.01666894788222383, stupid_log_loss = 0.04318483487846742\n",
      "Covenant ratio = 0.29, Model name = Restriction_of_activity, true_positive = 100.0, true_negative = 99.56\n",
      "log_loss = 0.004814060004037032, stupid_log_loss = 0.02815451196259687\n",
      "Covenant ratio = 0.29, Model name = Restriction_on_asset_sales, true_positive = 100.0, true_negative = 99.85\n",
      "log_loss = 0.0033735723746955194, stupid_log_loss = 0.01995565074694132\n",
      "Covenant ratio = 0.15, Model name = Restriction_on_the_sale_of_assets_with_leaseback, true_positive = 100.0, true_negative = 99.85\n",
      "log_loss = 0.009210803289481716, stupid_log_loss = 0.050218396761899785\n",
      "Covenant ratio = 0.59, Model name = Limitation_on_merger, true_positive = 100.0, true_negative = 99.71\n",
      "Restriction_on_the_layering_of_debt_obligations_by_rank\n",
      "fatal err  Restriction_on_the_layering_of_debt_obligations_by_rank y_true contains only one label (0.0). Please provide the true labels explicitly through the labels argument.\n",
      "log_loss = 0.0026019473270305405, stupid_log_loss = 0.019955650746941323\n",
      "Covenant ratio = 0.29, Model name = A_condition_of_suspension_of_the_covenants, true_positive = 100.0, true_negative = 100.0\n",
      "log_loss = 0.005335853188633517, stupid_log_loss = 0.010990786212846477\n",
      "Covenant ratio = 0.29, Model name = Financial_covenants, true_positive = 50.0, true_negative = 100.0\n"
     ]
    }
   ],
   "source": [
    "from sklearn.metrics import log_loss\n",
    "confidence_level = 0.9\n",
    "for model_name in models:\n",
    "    try:\n",
    "        with open(('./models\\\\CLASS_PROSPECTUS_%s_TF-IDF.rft' % model_name), 'rb') as f:\n",
    "            model = pickle.load(f)\n",
    "        with open(('./models\\\\VECTOR_PROSPECTUS_%s_TF-IDF.txt' % model_name), 'rb') as f:\n",
    "            vector = pickle.load(f)  \n",
    "\n",
    "        ds = datasets[model_name]['df_validation']\n",
    "        ds['target'] = ds.apply(lambda r: 'empty' if r['target']==None else r['target'], axis=1)\n",
    "        stupid_predict_prob = [sum(ds[\"target\"]) / len(ds[\"target\"])] * len(ds[\"target\"])\n",
    "        ds['predict']= model.predict(vector.transform(ds['x']))\n",
    "        predict_prob = [elem for elem in model.predict_proba(vector.transform(ds['x']))]\n",
    "\n",
    "        ds['confidence']=np.transpose(np.amax(model.predict_proba(vector.transform(ds['x'])), axis=1))\n",
    "\n",
    "        precision = round(100- 100*len(ds[(ds['confidence']>=confidence_level)&(ds['target']!=ds['predict'])])/len(ds),2)\n",
    "        to_validate = round(100*len(ds[(ds['confidence']<confidence_level)])/len(ds),2)\n",
    "        try:\n",
    "            print(f\"log_loss = {log_loss(ds['target'], predict_prob)}, stupid_log_loss = {log_loss(ds['target'], stupid_predict_prob)}\")\n",
    "        except:\n",
    "            pass\n",
    "        try:\n",
    "            first, second = (confusion_matrix(ds[\"target\"], ds[\"predict\"]))\n",
    "        except:\n",
    "            print(model_name)\n",
    "            pass\n",
    "        tn, fn = first\n",
    "        fp, tp = second\n",
    "        stats_df.loc[model_name,\"log_loss_tf_idf\"] = log_loss(ds['target'], predict_prob)\n",
    "        stats_df.loc[model_name,\"true_neg_tf_idf\"] = tn\n",
    "        stats_df.loc[model_name,\"true_pos_tf_idf\"] = tp\n",
    "        stats_df.loc[model_name,\"false_neg_tf_idf\"] = fn\n",
    "        stats_df.loc[model_name,\"false_pos_tf_idf\"] = fp\n",
    "        print (f\"Covenant ratio = {round(100*(tp + fn) / (fp + tn), 2)}, Model name = {model_name}, true_positive = {round(100 * tp / (tp + fn), 2)}, true_negative = {round(100 * tn / (tn + fp), 2)}\")\n",
    "\n",
    "        #print('Model %s statistic (validation rows %s): Precision= %s ; To_Validate=%s  at Confidence=%s' % (model_name, len(ds), precision, to_validate, confidence_level))\n",
    "    except Exception as exc:\n",
    "        print(\"fatal err \", model_name, exc)"
   ]
  },
  {
   "cell_type": "code",
   "execution_count": 24,
   "metadata": {},
   "outputs": [
    {
     "data": {
      "image/png": "[encoded data removed]",
      "text/plain": [
       "<Figure size 432x288 with 1 Axes>"
      ]
     },
     "metadata": {
      "needs_background": "light"
     },
     "output_type": "display_data"
    },
    {
     "data": {
      "image/png": "[encoded data removed]",
      "text/plain": [
       "<Figure size 432x288 with 1 Axes>"
      ]
     },
     "metadata": {
      "needs_background": "light"
     },
     "output_type": "display_data"
    },
    {
     "data": {
      "image/png": "[encoded data removed]",
      "text/plain": [
       "<Figure size 432x288 with 1 Axes>"
      ]
     },
     "metadata": {
      "needs_background": "light"
     },
     "output_type": "display_data"
    },
    {
     "data": {
      "image/png": "[encoded data removed]",
      "text/plain": [
       "<Figure size 432x288 with 1 Axes>"
      ]
     },
     "metadata": {
      "needs_background": "light"
     },
     "output_type": "display_data"
    },
    {
     "data": {
      "image/png": "[encoded data removed]",
      "text/plain": [
       "<Figure size 432x288 with 1 Axes>"
      ]
     },
     "metadata": {
      "needs_background": "light"
     },
     "output_type": "display_data"
    },
    {
     "data": {
      "image/png": "[encoded data removed]",
      "text/plain": [
       "<Figure size 432x288 with 1 Axes>"
      ]
     },
     "metadata": {
      "needs_background": "light"
     },
     "output_type": "display_data"
    },
    {
     "data": {
      "image/png": "[encoded data removed]",
      "text/plain": [
       "<Figure size 432x288 with 1 Axes>"
      ]
     },
     "metadata": {
      "needs_background": "light"
     },
     "output_type": "display_data"
    },
    {
     "data": {
      "image/png": "[encoded data removed]",
      "text/plain": [
       "<Figure size 432x288 with 1 Axes>"
      ]
     },
     "metadata": {
      "needs_background": "light"
     },
     "output_type": "display_data"
    },
    {
     "name": "stdout",
     "output_type": "stream",
     "text": [
      "fail on  Investment_restriction\n"
     ]
    },
    {
     "data": {
      "image/png": "[encoded data removed]",
      "text/plain": [
       "<Figure size 432x288 with 1 Axes>"
      ]
     },
     "metadata": {
      "needs_background": "light"
     },
     "output_type": "display_data"
    },
    {
     "data": {
      "image/png": "[encoded data removed]",
      "text/plain": [
       "<Figure size 432x288 with 1 Axes>"
      ]
     },
     "metadata": {
      "needs_background": "light"
     },
     "output_type": "display_data"
    },
    {
     "data": {
      "image/png": "[encoded data removed]",
      "text/plain": [
       "<Figure size 432x288 with 1 Axes>"
      ]
     },
     "metadata": {
      "needs_background": "light"
     },
     "output_type": "display_data"
    },
    {
     "data": {
      "image/png": "[encoded data removed]",
      "text/plain": [
       "<Figure size 432x288 with 1 Axes>"
      ]
     },
     "metadata": {
      "needs_background": "light"
     },
     "output_type": "display_data"
    },
    {
     "data": {
      "image/png": "[encoded data removed]",
      "text/plain": [
       "<Figure size 432x288 with 1 Axes>"
      ]
     },
     "metadata": {
      "needs_background": "light"
     },
     "output_type": "display_data"
    },
    {
     "data": {
      "image/png": "[encoded data removed]",
      "text/plain": [
       "<Figure size 432x288 with 1 Axes>"
      ]
     },
     "metadata": {
      "needs_background": "light"
     },
     "output_type": "display_data"
    },
    {
     "data": {
      "image/png": "[encoded data removed]",
      "text/plain": [
       "<Figure size 432x288 with 1 Axes>"
      ]
     },
     "metadata": {
      "needs_background": "light"
     },
     "output_type": "display_data"
    },
    {
     "data": {
      "image/png": "[encoded data removed]",
      "text/plain": [
       "<Figure size 432x288 with 1 Axes>"
      ]
     },
     "metadata": {
      "needs_background": "light"
     },
     "output_type": "display_data"
    },
    {
     "data": {
      "image/png": "[encoded data removed]",
      "text/plain": [
       "<Figure size 432x288 with 1 Axes>"
      ]
     },
     "metadata": {
      "needs_background": "light"
     },
     "output_type": "display_data"
    }
   ],
   "source": [
    "for index, model_name in enumerate(models):\n",
    "    try:\n",
    "        \n",
    "        ds = datasets[model_name]['df_validation']\n",
    "\n",
    "        to_validate, confidences = get_plot_confidence_and_validate_points(ds)\n",
    "\n",
    "        plt.plot(confidences, np.log(to_validate + 1), label = \"to validate\")\n",
    "        plt.legend()\n",
    "        plt.show()\n",
    "    except:\n",
    "        print('fail on ', model_name)"
   ]
  },
  {
   "cell_type": "code",
   "execution_count": 25,
   "metadata": {},
   "outputs": [
    {
     "data": {
      "image/png": "[encoded data removed]",
      "text/plain": [
       "<Figure size 432x288 with 1 Axes>"
      ]
     },
     "metadata": {
      "needs_background": "light"
     },
     "output_type": "display_data"
    },
    {
     "data": {
      "image/png": "[encoded data removed]",
      "text/plain": [
       "<Figure size 432x288 with 1 Axes>"
      ]
     },
     "metadata": {
      "needs_background": "light"
     },
     "output_type": "display_data"
    },
    {
     "data": {
      "image/png": "[encoded data removed]",
      "text/plain": [
       "<Figure size 432x288 with 1 Axes>"
      ]
     },
     "metadata": {
      "needs_background": "light"
     },
     "output_type": "display_data"
    },
    {
     "data": {
      "image/png": "[encoded data removed]",
      "text/plain": [
       "<Figure size 432x288 with 1 Axes>"
      ]
     },
     "metadata": {
      "needs_background": "light"
     },
     "output_type": "display_data"
    },
    {
     "data": {
      "image/png": "[encoded data removed]",
      "text/plain": [
       "<Figure size 432x288 with 1 Axes>"
      ]
     },
     "metadata": {
      "needs_background": "light"
     },
     "output_type": "display_data"
    },
    {
     "data": {
      "image/png": "[encoded data removed]",
      "text/plain": [
       "<Figure size 432x288 with 1 Axes>"
      ]
     },
     "metadata": {
      "needs_background": "light"
     },
     "output_type": "display_data"
    },
    {
     "data": {
      "image/png": "[encoded data removed]",
      "text/plain": [
       "<Figure size 432x288 with 1 Axes>"
      ]
     },
     "metadata": {
      "needs_background": "light"
     },
     "output_type": "display_data"
    },
    {
     "data": {
      "image/png": "[encoded data removed]",
      "text/plain": [
       "<Figure size 432x288 with 1 Axes>"
      ]
     },
     "metadata": {
      "needs_background": "light"
     },
     "output_type": "display_data"
    },
    {
     "name": "stdout",
     "output_type": "stream",
     "text": [
      "fail on  Investment_restriction\n"
     ]
    },
    {
     "data": {
      "image/png": "[encoded data removed]",
      "text/plain": [
       "<Figure size 432x288 with 1 Axes>"
      ]
     },
     "metadata": {
      "needs_background": "light"
     },
     "output_type": "display_data"
    },
    {
     "data": {
      "image/png": "[encoded data removed]",
      "text/plain": [
       "<Figure size 432x288 with 1 Axes>"
      ]
     },
     "metadata": {
      "needs_background": "light"
     },
     "output_type": "display_data"
    },
    {
     "data": {
      "image/png": "[encoded data removed]",
      "text/plain": [
       "<Figure size 432x288 with 1 Axes>"
      ]
     },
     "metadata": {
      "needs_background": "light"
     },
     "output_type": "display_data"
    },
    {
     "data": {
      "image/png": "[encoded data removed]",
      "text/plain": [
       "<Figure size 432x288 with 1 Axes>"
      ]
     },
     "metadata": {
      "needs_background": "light"
     },
     "output_type": "display_data"
    },
    {
     "data": {
      "image/png": "[encoded data removed]",
      "text/plain": [
       "<Figure size 432x288 with 1 Axes>"
      ]
     },
     "metadata": {
      "needs_background": "light"
     },
     "output_type": "display_data"
    },
    {
     "data": {
      "image/png": "[encoded data removed]",
      "text/plain": [
       "<Figure size 432x288 with 1 Axes>"
      ]
     },
     "metadata": {
      "needs_background": "light"
     },
     "output_type": "display_data"
    },
    {
     "data": {
      "image/png": "[encoded data removed]",
      "text/plain": [
       "<Figure size 432x288 with 1 Axes>"
      ]
     },
     "metadata": {
      "needs_background": "light"
     },
     "output_type": "display_data"
    },
    {
     "data": {
      "image/png": "[encoded data removed]",
      "text/plain": [
       "<Figure size 432x288 with 1 Axes>"
      ]
     },
     "metadata": {
      "needs_background": "light"
     },
     "output_type": "display_data"
    },
    {
     "data": {
      "image/png": "[encoded data removed]",
      "text/plain": [
       "<Figure size 432x288 with 1 Axes>"
      ]
     },
     "metadata": {
      "needs_background": "light"
     },
     "output_type": "display_data"
    }
   ],
   "source": [
    "for index, model_name in enumerate(models):\n",
    "    try:\n",
    "        ds = datasets[model_name]['df_validation']\n",
    "\n",
    "        to_validate, confidences = get_plot_confidence_and_validate_points(ds)\n",
    "\n",
    "        plt.plot(confidences, np.log(to_validate + 1), label = \"to validate\")\n",
    "        plt.legend()\n",
    "        plt.show()\n",
    "    except:\n",
    "        print('fail on ', model_name)"
   ]
  },
  {
   "cell_type": "code",
   "execution_count": 27,
   "metadata": {},
   "outputs": [],
   "source": []
  },
  {
   "cell_type": "code",
   "execution_count": 50,
   "metadata": {},
   "outputs": [
    {
     "name": "stdout",
     "output_type": "stream",
     "text": [
      "log_loss = 0.017531594911800324, stupid_log_loss = 0.06997133373511628\n",
      "676 0 4 5\n",
      "Covenant ratio = 0.74, Model name = Restriction_on_the_provision_of_collateral, true_positive = 100.0, true_negative = 99.41\n",
      "log_loss = 0.05745626495160606, stupid_log_loss = 0.050218396761899785\n",
      "679 0 2 4\n",
      "Covenant ratio = 0.59, Model name = Change_of_control, true_positive = 100.0, true_negative = 99.71\n",
      "log_loss = 0.0886188090730658, stupid_log_loss = 0.1370183733796794\n",
      "662 2 14 7\n",
      "Covenant ratio = 1.33, Model name = Cases_of_default, true_positive = 77.78, true_negative = 97.93\n",
      "log_loss = 0.021460195163591003, stupid_log_loss = 0.0997387017328646\n",
      "671 0 4 10\n",
      "Covenant ratio = 1.48, Model name = Cross-default, true_positive = 100.0, true_negative = 99.41\n",
      "log_loss = 0.011421985273911119, stupid_log_loss = 0.11083350135474888\n",
      "669 0 2 14\n",
      "Covenant ratio = 2.09, Model name = Collective_action_clauses, true_positive = 100.0, true_negative = 99.7\n",
      "log_loss = 0.011319539853790962, stupid_log_loss = 0.035855177047192405\n",
      "681 0 3 1\n",
      "Covenant ratio = 0.15, Model name = Limitation_on_indebtedness, true_positive = 100.0, true_negative = 99.56\n",
      "log_loss = 0.012183938115242644, stupid_log_loss = 0.03585517704719241\n",
      "681 0 4 0\n",
      "Covenant ratio = 0.0, Model name = Limitation_of_debt_of_subsidiaries, true_positive = nan, true_negative = 99.42\n"
     ]
    },
    {
     "name": "stderr",
     "output_type": "stream",
     "text": [
      "/home/delanary/.local/lib/python3.7/site-packages/ipykernel_launcher.py:39: RuntimeWarning: invalid value encountered in long_scalars\n"
     ]
    },
    {
     "name": "stdout",
     "output_type": "stream",
     "text": [
      "log_loss = 0.052320631405428364, stupid_log_loss = 0.02815451196259687\n",
      "682 0 1 2\n",
      "Covenant ratio = 0.29, Model name = Limitation_on_payments, true_positive = 100.0, true_negative = 99.85\n",
      "Investment_restriction\n",
      "682 0 1 2\n",
      "fatal err  Investment_restriction\n",
      "log_loss = 0.0028301049627466545, stupid_log_loss = 0.010990786212846474\n",
      "684 0 0 1\n",
      "Covenant ratio = 0.15, Model name = Limitation_on_payments_to_subsidiaries, true_positive = 100.0, true_negative = 100.0\n",
      "log_loss = 0.005654687009249705, stupid_log_loss = 0.02815451196259687\n",
      "682 0 3 0\n",
      "Covenant ratio = 0.0, Model name = Restriction_on_transactions_with_affiliates, true_positive = nan, true_negative = 99.56\n"
     ]
    },
    {
     "name": "stderr",
     "output_type": "stream",
     "text": [
      "/home/delanary/.local/lib/python3.7/site-packages/ipykernel_launcher.py:39: RuntimeWarning: invalid value encountered in long_scalars\n"
     ]
    },
    {
     "name": "stdout",
     "output_type": "stream",
     "text": [
      "log_loss = 0.014203171297641412, stupid_log_loss = 0.04318483487846742\n",
      "680 0 5 0\n",
      "Covenant ratio = 0.0, Model name = Restriction_of_activity, true_positive = nan, true_negative = 99.27\n"
     ]
    },
    {
     "name": "stderr",
     "output_type": "stream",
     "text": [
      "/home/delanary/.local/lib/python3.7/site-packages/ipykernel_launcher.py:39: RuntimeWarning: invalid value encountered in long_scalars\n"
     ]
    },
    {
     "name": "stdout",
     "output_type": "stream",
     "text": [
      "log_loss = 0.004958540791997078, stupid_log_loss = 0.02815451196259687\n",
      "682 0 2 1\n",
      "Covenant ratio = 0.15, Model name = Restriction_on_asset_sales, true_positive = 100.0, true_negative = 99.71\n",
      "log_loss = 0.002838838034397779, stupid_log_loss = 0.01995565074694132\n",
      "683 0 1 1\n",
      "Covenant ratio = 0.15, Model name = Restriction_on_the_sale_of_assets_with_leaseback, true_positive = 100.0, true_negative = 99.85\n",
      "log_loss = 0.008863371994404576, stupid_log_loss = 0.050218396761899785\n",
      "679 0 2 4\n",
      "Covenant ratio = 0.59, Model name = Limitation_on_merger, true_positive = 100.0, true_negative = 99.71\n",
      "Restriction_on_the_layering_of_debt_obligations_by_rank\n",
      "679 0 2 4\n",
      "fatal err  Restriction_on_the_layering_of_debt_obligations_by_rank\n",
      "log_loss = 0.005115484756329669, stupid_log_loss = 0.019955650746941323\n",
      "683 0 2 0\n",
      "Covenant ratio = 0.0, Model name = A_condition_of_suspension_of_the_covenants, true_positive = nan, true_negative = 99.71\n"
     ]
    },
    {
     "name": "stderr",
     "output_type": "stream",
     "text": [
      "/home/delanary/.local/lib/python3.7/site-packages/ipykernel_launcher.py:39: RuntimeWarning: invalid value encountered in long_scalars\n"
     ]
    },
    {
     "name": "stdout",
     "output_type": "stream",
     "text": [
      "log_loss = 0.00413269394951629, stupid_log_loss = 0.010990786212846477\n",
      "684 0 1 0\n",
      "Covenant ratio = 0.0, Model name = Financial_covenants, true_positive = nan, true_negative = 99.85\n"
     ]
    },
    {
     "name": "stderr",
     "output_type": "stream",
     "text": [
      "/home/delanary/.local/lib/python3.7/site-packages/ipykernel_launcher.py:39: RuntimeWarning: invalid value encountered in long_scalars\n"
     ]
    }
   ],
   "source": [
    "from sklearn.metrics import log_loss\n",
    "confidence_level = 0.9\n",
    "for model_name in models:\n",
    "    try:\n",
    "        with open(('./models\\\\CLASS_PROSPECTUS_%s_CountVectorizer.rft' % model_name), 'rb') as f:\n",
    "            model = pickle.load(f)\n",
    "        with open(('./models\\\\VECTOR_PROSPECTUS_%s_CountVectorizer.txt' % model_name), 'rb') as f:\n",
    "            vector = pickle.load(f)  \n",
    "\n",
    "        ds = datasets[model_name]['df_validation']\n",
    "        ds['target'] = ds.apply(lambda r: 'empty' if r['target']==None else r['target'], axis=1)\n",
    "        stupid_predict_prob = [sum(ds[\"target\"]) / len(ds[\"target\"])] * len(ds[\"target\"])\n",
    "        ds['predict']= model.predict(vector.transform(ds['x']))\n",
    "        predict_prob = [elem for elem in model.predict_proba(vector.transform(ds['x']))]\n",
    "\n",
    "        ds['confidence']=np.transpose(np.amax(model.predict_proba(vector.transform(ds['x'])), axis=1))\n",
    "\n",
    "        precision = round(100- 100*len(ds[(ds['confidence']>=confidence_level)&(ds['target']!=ds['predict'])])/len(ds),2)\n",
    "        to_validate = round(100*len(ds[(ds['confidence']<confidence_level)])/len(ds),2)\n",
    "        try:\n",
    "            print(f\"log_loss = {log_loss(ds['target'], predict_prob)}, stupid_log_loss = {log_loss(ds['target'], stupid_predict_prob)}\")\n",
    "        except:\n",
    "            pass\n",
    "\n",
    "        try:\n",
    "            first, second = (confusion_matrix(ds[\"target\"], ds[\"predict\"]))\n",
    "        except:\n",
    "            print(model_name)\n",
    "            pass\n",
    "        tn, fn = first\n",
    "        fp, tp = second\n",
    "        print(tn, fn, fp, tp)\n",
    "        stats_df.loc[model_name,\"log_loss_vectorizer\"] = log_loss(ds['target'], predict_prob)\n",
    "        stats_df.loc[model_name,\"true_neg_vectorizer\"] = tn\n",
    "        stats_df.loc[model_name,\"true_pos_vectorizer\"] = tp\n",
    "        stats_df.loc[model_name,\"false_neg_vectorizer\"] = fn\n",
    "        stats_df.loc[model_name,\"false_pos_vectorizer\"] = fp\n",
    "\n",
    "        print (f\"Covenant ratio = {round(100*(tp + fn) / (fp + tn), 2)}, Model name = {model_name}, true_positive = {round(100 * tp / (tp + fn), 2)}, true_negative = {round(100 * tn / (tn + fp), 2)}\")\n",
    "\n",
    "        #print('Model %s statistic (validation rows %s): Precision= %s ; To_Validate=%s  at Confidence=%s' % (model_name, len(ds), precision, to_validate, confidence_level))\n",
    "    except:\n",
    "        print(\"fatal err \", model_name)"
   ]
  },
  {
   "cell_type": "code",
   "execution_count": 51,
   "metadata": {},
   "outputs": [
    {
     "data": {
      "text/html": [
       "<div>\n",
       "<style scoped>\n",
       "    .dataframe tbody tr th:only-of-type {\n",
       "        vertical-align: middle;\n",
       "    }\n",
       "\n",
       "    .dataframe tbody tr th {\n",
       "        vertical-align: top;\n",
       "    }\n",
       "\n",
       "    .dataframe thead th {\n",
       "        text-align: right;\n",
       "    }\n",
       "</style>\n",
       "<table border=\"1\" class=\"dataframe\">\n",
       "  <thead>\n",
       "    <tr style=\"text-align: right;\">\n",
       "      <th></th>\n",
       "      <th>true_neg_vectorizer</th>\n",
       "      <th>true_pos_vectorizer</th>\n",
       "      <th>false_neg_vectorizer</th>\n",
       "      <th>false_pos_vectorizer</th>\n",
       "      <th>log_loss_vectorizer</th>\n",
       "      <th>true_neg_tf_idf</th>\n",
       "      <th>true_pos_tf_idf</th>\n",
       "      <th>false_neg_tf_idf</th>\n",
       "      <th>false_pos_tf_idf</th>\n",
       "      <th>log_loss_tf_idf</th>\n",
       "    </tr>\n",
       "  </thead>\n",
       "  <tbody>\n",
       "    <tr>\n",
       "      <th>Restriction_on_the_provision_of_collateral</th>\n",
       "      <td>676</td>\n",
       "      <td>5</td>\n",
       "      <td>0</td>\n",
       "      <td>4</td>\n",
       "      <td>0.0175316</td>\n",
       "      <td>670</td>\n",
       "      <td>5</td>\n",
       "      <td>6</td>\n",
       "      <td>4</td>\n",
       "      <td>0.0287524</td>\n",
       "    </tr>\n",
       "    <tr>\n",
       "      <th>Change_of_control</th>\n",
       "      <td>679</td>\n",
       "      <td>4</td>\n",
       "      <td>0</td>\n",
       "      <td>2</td>\n",
       "      <td>0.0574563</td>\n",
       "      <td>679</td>\n",
       "      <td>4</td>\n",
       "      <td>0</td>\n",
       "      <td>2</td>\n",
       "      <td>0.0141878</td>\n",
       "    </tr>\n",
       "    <tr>\n",
       "      <th>Cases_of_default</th>\n",
       "      <td>662</td>\n",
       "      <td>7</td>\n",
       "      <td>2</td>\n",
       "      <td>14</td>\n",
       "      <td>0.0886188</td>\n",
       "      <td>656</td>\n",
       "      <td>9</td>\n",
       "      <td>8</td>\n",
       "      <td>12</td>\n",
       "      <td>0.0557721</td>\n",
       "    </tr>\n",
       "    <tr>\n",
       "      <th>Cross-default</th>\n",
       "      <td>671</td>\n",
       "      <td>10</td>\n",
       "      <td>0</td>\n",
       "      <td>4</td>\n",
       "      <td>0.0214602</td>\n",
       "      <td>671</td>\n",
       "      <td>12</td>\n",
       "      <td>0</td>\n",
       "      <td>2</td>\n",
       "      <td>0.0213839</td>\n",
       "    </tr>\n",
       "    <tr>\n",
       "      <th>Collective_action_clauses</th>\n",
       "      <td>669</td>\n",
       "      <td>14</td>\n",
       "      <td>0</td>\n",
       "      <td>2</td>\n",
       "      <td>0.011422</td>\n",
       "      <td>668</td>\n",
       "      <td>15</td>\n",
       "      <td>1</td>\n",
       "      <td>1</td>\n",
       "      <td>0.0089545</td>\n",
       "    </tr>\n",
       "    <tr>\n",
       "      <th>Limitation_on_indebtedness</th>\n",
       "      <td>681</td>\n",
       "      <td>1</td>\n",
       "      <td>0</td>\n",
       "      <td>3</td>\n",
       "      <td>0.0113195</td>\n",
       "      <td>681</td>\n",
       "      <td>2</td>\n",
       "      <td>0</td>\n",
       "      <td>2</td>\n",
       "      <td>0.0120282</td>\n",
       "    </tr>\n",
       "    <tr>\n",
       "      <th>Limitation_of_debt_of_subsidiaries</th>\n",
       "      <td>681</td>\n",
       "      <td>0</td>\n",
       "      <td>0</td>\n",
       "      <td>4</td>\n",
       "      <td>0.0121839</td>\n",
       "      <td>681</td>\n",
       "      <td>1</td>\n",
       "      <td>0</td>\n",
       "      <td>3</td>\n",
       "      <td>0.0182191</td>\n",
       "    </tr>\n",
       "    <tr>\n",
       "      <th>Limitation_on_payments</th>\n",
       "      <td>682</td>\n",
       "      <td>2</td>\n",
       "      <td>0</td>\n",
       "      <td>1</td>\n",
       "      <td>0.0523206</td>\n",
       "      <td>682</td>\n",
       "      <td>2</td>\n",
       "      <td>0</td>\n",
       "      <td>1</td>\n",
       "      <td>0.0108787</td>\n",
       "    </tr>\n",
       "    <tr>\n",
       "      <th>Investment_restriction</th>\n",
       "      <td>NaN</td>\n",
       "      <td>NaN</td>\n",
       "      <td>NaN</td>\n",
       "      <td>NaN</td>\n",
       "      <td>NaN</td>\n",
       "      <td>NaN</td>\n",
       "      <td>NaN</td>\n",
       "      <td>NaN</td>\n",
       "      <td>NaN</td>\n",
       "      <td>NaN</td>\n",
       "    </tr>\n",
       "    <tr>\n",
       "      <th>Limitation_on_payments_to_subsidiaries</th>\n",
       "      <td>684</td>\n",
       "      <td>1</td>\n",
       "      <td>0</td>\n",
       "      <td>0</td>\n",
       "      <td>0.0028301</td>\n",
       "      <td>684</td>\n",
       "      <td>1</td>\n",
       "      <td>0</td>\n",
       "      <td>0</td>\n",
       "      <td>0.00216227</td>\n",
       "    </tr>\n",
       "    <tr>\n",
       "      <th>Restriction_on_transactions_with_affiliates</th>\n",
       "      <td>682</td>\n",
       "      <td>0</td>\n",
       "      <td>0</td>\n",
       "      <td>3</td>\n",
       "      <td>0.00565469</td>\n",
       "      <td>682</td>\n",
       "      <td>0</td>\n",
       "      <td>0</td>\n",
       "      <td>3</td>\n",
       "      <td>0.010688</td>\n",
       "    </tr>\n",
       "    <tr>\n",
       "      <th>Restriction_of_activity</th>\n",
       "      <td>680</td>\n",
       "      <td>0</td>\n",
       "      <td>0</td>\n",
       "      <td>5</td>\n",
       "      <td>0.0142032</td>\n",
       "      <td>680</td>\n",
       "      <td>2</td>\n",
       "      <td>0</td>\n",
       "      <td>3</td>\n",
       "      <td>0.0166689</td>\n",
       "    </tr>\n",
       "    <tr>\n",
       "      <th>Restriction_on_asset_sales</th>\n",
       "      <td>682</td>\n",
       "      <td>1</td>\n",
       "      <td>0</td>\n",
       "      <td>2</td>\n",
       "      <td>0.00495854</td>\n",
       "      <td>682</td>\n",
       "      <td>2</td>\n",
       "      <td>0</td>\n",
       "      <td>1</td>\n",
       "      <td>0.00481406</td>\n",
       "    </tr>\n",
       "    <tr>\n",
       "      <th>Restriction_on_the_sale_of_assets_with_leaseback</th>\n",
       "      <td>683</td>\n",
       "      <td>1</td>\n",
       "      <td>0</td>\n",
       "      <td>1</td>\n",
       "      <td>0.00283884</td>\n",
       "      <td>683</td>\n",
       "      <td>1</td>\n",
       "      <td>0</td>\n",
       "      <td>1</td>\n",
       "      <td>0.00337357</td>\n",
       "    </tr>\n",
       "    <tr>\n",
       "      <th>Limitation_on_merger</th>\n",
       "      <td>679</td>\n",
       "      <td>4</td>\n",
       "      <td>0</td>\n",
       "      <td>2</td>\n",
       "      <td>0.00886337</td>\n",
       "      <td>679</td>\n",
       "      <td>4</td>\n",
       "      <td>0</td>\n",
       "      <td>2</td>\n",
       "      <td>0.0092108</td>\n",
       "    </tr>\n",
       "    <tr>\n",
       "      <th>Restriction_on_the_layering_of_debt_obligations_by_rank</th>\n",
       "      <td>NaN</td>\n",
       "      <td>NaN</td>\n",
       "      <td>NaN</td>\n",
       "      <td>NaN</td>\n",
       "      <td>NaN</td>\n",
       "      <td>NaN</td>\n",
       "      <td>NaN</td>\n",
       "      <td>NaN</td>\n",
       "      <td>NaN</td>\n",
       "      <td>NaN</td>\n",
       "    </tr>\n",
       "    <tr>\n",
       "      <th>A_condition_of_suspension_of_the_covenants</th>\n",
       "      <td>683</td>\n",
       "      <td>0</td>\n",
       "      <td>0</td>\n",
       "      <td>2</td>\n",
       "      <td>0.00511548</td>\n",
       "      <td>683</td>\n",
       "      <td>2</td>\n",
       "      <td>0</td>\n",
       "      <td>0</td>\n",
       "      <td>0.00260195</td>\n",
       "    </tr>\n",
       "    <tr>\n",
       "      <th>Financial_covenants</th>\n",
       "      <td>684</td>\n",
       "      <td>0</td>\n",
       "      <td>0</td>\n",
       "      <td>1</td>\n",
       "      <td>0.00413269</td>\n",
       "      <td>683</td>\n",
       "      <td>1</td>\n",
       "      <td>1</td>\n",
       "      <td>0</td>\n",
       "      <td>0.00533585</td>\n",
       "    </tr>\n",
       "  </tbody>\n",
       "</table>\n",
       "</div>"
      ],
      "text/plain": [
       "                                                   true_neg_vectorizer  \\\n",
       "Restriction_on_the_provision_of_collateral                         676   \n",
       "Change_of_control                                                  679   \n",
       "Cases_of_default                                                   662   \n",
       "Cross-default                                                      671   \n",
       "Collective_action_clauses                                          669   \n",
       "Limitation_on_indebtedness                                         681   \n",
       "Limitation_of_debt_of_subsidiaries                                 681   \n",
       "Limitation_on_payments                                             682   \n",
       "Investment_restriction                                             NaN   \n",
       "Limitation_on_payments_to_subsidiaries                             684   \n",
       "Restriction_on_transactions_with_affiliates                        682   \n",
       "Restriction_of_activity                                            680   \n",
       "Restriction_on_asset_sales                                         682   \n",
       "Restriction_on_the_sale_of_assets_with_leaseback                   683   \n",
       "Limitation_on_merger                                               679   \n",
       "Restriction_on_the_layering_of_debt_obligations...                 NaN   \n",
       "A_condition_of_suspension_of_the_covenants                         683   \n",
       "Financial_covenants                                                684   \n",
       "\n",
       "                                                   true_pos_vectorizer  \\\n",
       "Restriction_on_the_provision_of_collateral                           5   \n",
       "Change_of_control                                                    4   \n",
       "Cases_of_default                                                     7   \n",
       "Cross-default                                                       10   \n",
       "Collective_action_clauses                                           14   \n",
       "Limitation_on_indebtedness                                           1   \n",
       "Limitation_of_debt_of_subsidiaries                                   0   \n",
       "Limitation_on_payments                                               2   \n",
       "Investment_restriction                                             NaN   \n",
       "Limitation_on_payments_to_subsidiaries                               1   \n",
       "Restriction_on_transactions_with_affiliates                          0   \n",
       "Restriction_of_activity                                              0   \n",
       "Restriction_on_asset_sales                                           1   \n",
       "Restriction_on_the_sale_of_assets_with_leaseback                     1   \n",
       "Limitation_on_merger                                                 4   \n",
       "Restriction_on_the_layering_of_debt_obligations...                 NaN   \n",
       "A_condition_of_suspension_of_the_covenants                           0   \n",
       "Financial_covenants                                                  0   \n",
       "\n",
       "                                                   false_neg_vectorizer  \\\n",
       "Restriction_on_the_provision_of_collateral                            0   \n",
       "Change_of_control                                                     0   \n",
       "Cases_of_default                                                      2   \n",
       "Cross-default                                                         0   \n",
       "Collective_action_clauses                                             0   \n",
       "Limitation_on_indebtedness                                            0   \n",
       "Limitation_of_debt_of_subsidiaries                                    0   \n",
       "Limitation_on_payments                                                0   \n",
       "Investment_restriction                                              NaN   \n",
       "Limitation_on_payments_to_subsidiaries                                0   \n",
       "Restriction_on_transactions_with_affiliates                           0   \n",
       "Restriction_of_activity                                               0   \n",
       "Restriction_on_asset_sales                                            0   \n",
       "Restriction_on_the_sale_of_assets_with_leaseback                      0   \n",
       "Limitation_on_merger                                                  0   \n",
       "Restriction_on_the_layering_of_debt_obligations...                  NaN   \n",
       "A_condition_of_suspension_of_the_covenants                            0   \n",
       "Financial_covenants                                                   0   \n",
       "\n",
       "                                                   false_pos_vectorizer  \\\n",
       "Restriction_on_the_provision_of_collateral                            4   \n",
       "Change_of_control                                                     2   \n",
       "Cases_of_default                                                     14   \n",
       "Cross-default                                                         4   \n",
       "Collective_action_clauses                                             2   \n",
       "Limitation_on_indebtedness                                            3   \n",
       "Limitation_of_debt_of_subsidiaries                                    4   \n",
       "Limitation_on_payments                                                1   \n",
       "Investment_restriction                                              NaN   \n",
       "Limitation_on_payments_to_subsidiaries                                0   \n",
       "Restriction_on_transactions_with_affiliates                           3   \n",
       "Restriction_of_activity                                               5   \n",
       "Restriction_on_asset_sales                                            2   \n",
       "Restriction_on_the_sale_of_assets_with_leaseback                      1   \n",
       "Limitation_on_merger                                                  2   \n",
       "Restriction_on_the_layering_of_debt_obligations...                  NaN   \n",
       "A_condition_of_suspension_of_the_covenants                            2   \n",
       "Financial_covenants                                                   1   \n",
       "\n",
       "                                                   log_loss_vectorizer  \\\n",
       "Restriction_on_the_provision_of_collateral                   0.0175316   \n",
       "Change_of_control                                            0.0574563   \n",
       "Cases_of_default                                             0.0886188   \n",
       "Cross-default                                                0.0214602   \n",
       "Collective_action_clauses                                     0.011422   \n",
       "Limitation_on_indebtedness                                   0.0113195   \n",
       "Limitation_of_debt_of_subsidiaries                           0.0121839   \n",
       "Limitation_on_payments                                       0.0523206   \n",
       "Investment_restriction                                             NaN   \n",
       "Limitation_on_payments_to_subsidiaries                       0.0028301   \n",
       "Restriction_on_transactions_with_affiliates                 0.00565469   \n",
       "Restriction_of_activity                                      0.0142032   \n",
       "Restriction_on_asset_sales                                  0.00495854   \n",
       "Restriction_on_the_sale_of_assets_with_leaseback            0.00283884   \n",
       "Limitation_on_merger                                        0.00886337   \n",
       "Restriction_on_the_layering_of_debt_obligations...                 NaN   \n",
       "A_condition_of_suspension_of_the_covenants                  0.00511548   \n",
       "Financial_covenants                                         0.00413269   \n",
       "\n",
       "                                                   true_neg_tf_idf  \\\n",
       "Restriction_on_the_provision_of_collateral                     670   \n",
       "Change_of_control                                              679   \n",
       "Cases_of_default                                               656   \n",
       "Cross-default                                                  671   \n",
       "Collective_action_clauses                                      668   \n",
       "Limitation_on_indebtedness                                     681   \n",
       "Limitation_of_debt_of_subsidiaries                             681   \n",
       "Limitation_on_payments                                         682   \n",
       "Investment_restriction                                         NaN   \n",
       "Limitation_on_payments_to_subsidiaries                         684   \n",
       "Restriction_on_transactions_with_affiliates                    682   \n",
       "Restriction_of_activity                                        680   \n",
       "Restriction_on_asset_sales                                     682   \n",
       "Restriction_on_the_sale_of_assets_with_leaseback               683   \n",
       "Limitation_on_merger                                           679   \n",
       "Restriction_on_the_layering_of_debt_obligations...             NaN   \n",
       "A_condition_of_suspension_of_the_covenants                     683   \n",
       "Financial_covenants                                            683   \n",
       "\n",
       "                                                   true_pos_tf_idf  \\\n",
       "Restriction_on_the_provision_of_collateral                       5   \n",
       "Change_of_control                                                4   \n",
       "Cases_of_default                                                 9   \n",
       "Cross-default                                                   12   \n",
       "Collective_action_clauses                                       15   \n",
       "Limitation_on_indebtedness                                       2   \n",
       "Limitation_of_debt_of_subsidiaries                               1   \n",
       "Limitation_on_payments                                           2   \n",
       "Investment_restriction                                         NaN   \n",
       "Limitation_on_payments_to_subsidiaries                           1   \n",
       "Restriction_on_transactions_with_affiliates                      0   \n",
       "Restriction_of_activity                                          2   \n",
       "Restriction_on_asset_sales                                       2   \n",
       "Restriction_on_the_sale_of_assets_with_leaseback                 1   \n",
       "Limitation_on_merger                                             4   \n",
       "Restriction_on_the_layering_of_debt_obligations...             NaN   \n",
       "A_condition_of_suspension_of_the_covenants                       2   \n",
       "Financial_covenants                                              1   \n",
       "\n",
       "                                                   false_neg_tf_idf  \\\n",
       "Restriction_on_the_provision_of_collateral                        6   \n",
       "Change_of_control                                                 0   \n",
       "Cases_of_default                                                  8   \n",
       "Cross-default                                                     0   \n",
       "Collective_action_clauses                                         1   \n",
       "Limitation_on_indebtedness                                        0   \n",
       "Limitation_of_debt_of_subsidiaries                                0   \n",
       "Limitation_on_payments                                            0   \n",
       "Investment_restriction                                          NaN   \n",
       "Limitation_on_payments_to_subsidiaries                            0   \n",
       "Restriction_on_transactions_with_affiliates                       0   \n",
       "Restriction_of_activity                                           0   \n",
       "Restriction_on_asset_sales                                        0   \n",
       "Restriction_on_the_sale_of_assets_with_leaseback                  0   \n",
       "Limitation_on_merger                                              0   \n",
       "Restriction_on_the_layering_of_debt_obligations...              NaN   \n",
       "A_condition_of_suspension_of_the_covenants                        0   \n",
       "Financial_covenants                                               1   \n",
       "\n",
       "                                                   false_pos_tf_idf  \\\n",
       "Restriction_on_the_provision_of_collateral                        4   \n",
       "Change_of_control                                                 2   \n",
       "Cases_of_default                                                 12   \n",
       "Cross-default                                                     2   \n",
       "Collective_action_clauses                                         1   \n",
       "Limitation_on_indebtedness                                        2   \n",
       "Limitation_of_debt_of_subsidiaries                                3   \n",
       "Limitation_on_payments                                            1   \n",
       "Investment_restriction                                          NaN   \n",
       "Limitation_on_payments_to_subsidiaries                            0   \n",
       "Restriction_on_transactions_with_affiliates                       3   \n",
       "Restriction_of_activity                                           3   \n",
       "Restriction_on_asset_sales                                        1   \n",
       "Restriction_on_the_sale_of_assets_with_leaseback                  1   \n",
       "Limitation_on_merger                                              2   \n",
       "Restriction_on_the_layering_of_debt_obligations...              NaN   \n",
       "A_condition_of_suspension_of_the_covenants                        0   \n",
       "Financial_covenants                                               0   \n",
       "\n",
       "                                                   log_loss_tf_idf  \n",
       "Restriction_on_the_provision_of_collateral               0.0287524  \n",
       "Change_of_control                                        0.0141878  \n",
       "Cases_of_default                                         0.0557721  \n",
       "Cross-default                                            0.0213839  \n",
       "Collective_action_clauses                                0.0089545  \n",
       "Limitation_on_indebtedness                               0.0120282  \n",
       "Limitation_of_debt_of_subsidiaries                       0.0182191  \n",
       "Limitation_on_payments                                   0.0108787  \n",
       "Investment_restriction                                         NaN  \n",
       "Limitation_on_payments_to_subsidiaries                  0.00216227  \n",
       "Restriction_on_transactions_with_affiliates               0.010688  \n",
       "Restriction_of_activity                                  0.0166689  \n",
       "Restriction_on_asset_sales                              0.00481406  \n",
       "Restriction_on_the_sale_of_assets_with_leaseback        0.00337357  \n",
       "Limitation_on_merger                                     0.0092108  \n",
       "Restriction_on_the_layering_of_debt_obligations...             NaN  \n",
       "A_condition_of_suspension_of_the_covenants              0.00260195  \n",
       "Financial_covenants                                     0.00533585  "
      ]
     },
     "execution_count": 51,
     "metadata": {},
     "output_type": "execute_result"
    }
   ],
   "source": [
    "stats_df"
   ]
  }
 ],
 "metadata": {
  "kernelspec": {
   "display_name": "Python 3",
   "language": "python",
   "name": "python3"
  },
  "language_info": {
   "codemirror_mode": {
    "name": "ipython",
    "version": 3
   },
   "file_extension": ".py",
   "mimetype": "text/x-python",
   "name": "python",
   "nbconvert_exporter": "python",
   "pygments_lexer": "ipython3",
   "version": "3.7.8"
  }
 },
 "nbformat": 4,
 "nbformat_minor": 4
}
